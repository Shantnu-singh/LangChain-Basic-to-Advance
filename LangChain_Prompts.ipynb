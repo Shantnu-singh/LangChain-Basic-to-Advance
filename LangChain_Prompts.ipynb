{
 "cells": [
  {
   "cell_type": "code",
   "execution_count": null,
   "id": "6d24d6c9",
   "metadata": {},
   "outputs": [],
   "source": [
    "# Promts are input or query give to a model to guide the output\n",
    "# Super Important\n",
    "# static promts = \"all the control to the users\" , whole promt is given by user\n",
    "# Dynamic promts = promt is given by us, user just fill the gaps\n",
    "\n",
    "# Why Just not python f-string\n",
    "# By default validation\n",
    "# Promt can be saved on json file\n",
    "# very tightly "
   ]
  },
  {
   "cell_type": "code",
   "execution_count": 1,
   "id": "cf8b1ef8",
   "metadata": {},
   "outputs": [
    {
     "name": "stderr",
     "output_type": "stream",
     "text": [
      "c:\\Users\\singh\\Let's Gooooo\\Langchain\\.venv\\Lib\\site-packages\\tqdm\\auto.py:21: TqdmWarning: IProgress not found. Please update jupyter and ipywidgets. See https://ipywidgets.readthedocs.io/en/stable/user_install.html\n",
      "  from .autonotebook import tqdm as notebook_tqdm\n"
     ]
    }
   ],
   "source": [
    "import os\n",
    "import google.generativeai as palm\n",
    "import requests\n",
    "from dotenv import load_dotenv\n",
    "from langchain_openai import ChatOpenAI\n",
    "load_dotenv()\n",
    "\n",
    "# Load your keys\n",
    "OPENAI_API_KEY = os.getenv(\"OPENAI_API_KEY\")\n",
    "OPENROUTER_API_KEY = os.getenv(\"OPENROUTER_API_KEY\")\n",
    "GOOGLE_API_KEY = os.getenv(\"GOOGLE_API_KEY\")"
   ]
  },
  {
   "cell_type": "code",
   "execution_count": null,
   "id": "fc9f0299",
   "metadata": {},
   "outputs": [],
   "source": [
    "# Messages in langchain\n",
    "# system msg\n",
    "# Human msg\n",
    "# AI msg\n",
    "\n",
    "from langchain_core.messages import SystemMessage , AIMessage , HumanMessage\n",
    "from langchain_google_genai import ChatGoogleGenerativeAI\n",
    "llm_gemini = ChatGoogleGenerativeAI(model=\"gemini-2.0-flash\" , api_key= GOOGLE_API_KEY)\n",
    "\n",
    "messages = [\n",
    "    SystemMessage(content=\"this is helpful assistance\"),\n",
    "    HumanMessage(content=\"Tell me about uses of Langchain\")\n",
    "]\n",
    "\n",
    "results = llm_gemini.invoke(messages)\n",
    "messages.append(AIMessage(content= results.content))"
   ]
  },
  {
   "cell_type": "code",
   "execution_count": 7,
   "id": "be98c97b",
   "metadata": {},
   "outputs": [
    {
     "name": "stdout",
     "output_type": "stream",
     "text": [
      "AI:  The current Prime Minister of India is Narendra Modi. He assumed office on 26 May 2014 and is a member of the Bharatiya Janata Party (BJP).\n",
      "AI:  Narendra Modi was born on September 17, 1950. So, as of today, October 26, 2023, he is 73 years old.\n",
      "[SystemMessage(content=\"You're a helpful AI assitant\", additional_kwargs={}, response_metadata={}), HumanMessage(content='tell me pm of india', additional_kwargs={}, response_metadata={}), AIMessage(content='The current Prime Minister of India is Narendra Modi. He assumed office on 26 May 2014 and is a member of the Bharatiya Janata Party (BJP).', additional_kwargs={}, response_metadata={}), HumanMessage(content='what is his age', additional_kwargs={}, response_metadata={}), AIMessage(content='Narendra Modi was born on September 17, 1950. So, as of today, October 26, 2023, he is 73 years old.', additional_kwargs={}, response_metadata={}), HumanMessage(content='exit', additional_kwargs={}, response_metadata={})]\n"
     ]
    }
   ],
   "source": [
    "from langchain_google_genai import ChatGoogleGenerativeAI\n",
    "from langchain_core.messages import SystemMessage , AIMessage , HumanMessage\n",
    "\n",
    "llm_gemini = ChatGoogleGenerativeAI(model=\"gemini-2.0-flash\" , api_key= GOOGLE_API_KEY)\n",
    "\n",
    "chat_history = [SystemMessage(\"You're a helpful AI assitant\")]\n",
    "while True:\n",
    "    user_input = input(\"You : \")\n",
    "    chat_history.append(HumanMessage(content=user_input))\n",
    "    if user_input.lower() == \"exit\":\n",
    "        break\n",
    "    \n",
    "    results = llm_gemini.invoke(chat_history)\n",
    "    chat_history.append(AIMessage(content=results.content))\n",
    "    print(\"AI: \", results.content)\n",
    "    \n",
    "print(chat_history)"
   ]
  },
  {
   "cell_type": "code",
   "execution_count": null,
   "id": "f75153e7",
   "metadata": {},
   "outputs": [],
   "source": []
  },
  {
   "cell_type": "code",
   "execution_count": null,
   "id": "2651ca44",
   "metadata": {},
   "outputs": [],
   "source": []
  }
 ],
 "metadata": {
  "kernelspec": {
   "display_name": ".venv",
   "language": "python",
   "name": "python3"
  },
  "language_info": {
   "codemirror_mode": {
    "name": "ipython",
    "version": 3
   },
   "file_extension": ".py",
   "mimetype": "text/x-python",
   "name": "python",
   "nbconvert_exporter": "python",
   "pygments_lexer": "ipython3",
   "version": "3.12.2"
  }
 },
 "nbformat": 4,
 "nbformat_minor": 5
}
