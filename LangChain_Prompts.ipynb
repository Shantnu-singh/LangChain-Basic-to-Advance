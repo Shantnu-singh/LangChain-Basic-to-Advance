{
 "cells": [
  {
   "cell_type": "code",
   "execution_count": null,
   "id": "6d24d6c9",
   "metadata": {},
   "outputs": [],
   "source": [
    "# Promts are input or query give to a model to guide the output\n",
    "# Super Important\n",
    "# static promts = \"all the control to the users\" , whole promt is given by user\n",
    "# Dynamic promts = promt is given by us, user just fill the gaps\n",
    "\n",
    "# Why Just not python f-string\n",
    "# By default validation\n",
    "# Promt can be saved on json file\n",
    "# very tightly "
   ]
  },
  {
   "cell_type": "code",
   "execution_count": 1,
   "id": "cf8b1ef8",
   "metadata": {},
   "outputs": [
    {
     "name": "stderr",
     "output_type": "stream",
     "text": [
      "c:\\Users\\singh\\Let's Gooooo\\Langchain\\.venv\\Lib\\site-packages\\tqdm\\auto.py:21: TqdmWarning: IProgress not found. Please update jupyter and ipywidgets. See https://ipywidgets.readthedocs.io/en/stable/user_install.html\n",
      "  from .autonotebook import tqdm as notebook_tqdm\n"
     ]
    }
   ],
   "source": [
    "import os\n",
    "import google.generativeai as palm\n",
    "import requests\n",
    "from dotenv import load_dotenv\n",
    "from langchain_openai import ChatOpenAI\n",
    "load_dotenv()\n",
    "\n",
    "# Load your keys\n",
    "OPENAI_API_KEY = os.getenv(\"OPENAI_API_KEY\")\n",
    "OPENROUTER_API_KEY = os.getenv(\"OPENROUTER_API_KEY\")\n",
    "GOOGLE_API_KEY = os.getenv(\"GOOGLE_API_KEY\")"
   ]
  },
  {
   "cell_type": "code",
   "execution_count": null,
   "id": "fc9f0299",
   "metadata": {},
   "outputs": [],
   "source": [
    "# Messages in langchain\n",
    "# system msg\n",
    "# Human msg\n",
    "# AI msg\n",
    "\n",
    "from langchain_core.messages import SystemMessage , AIMessage , HumanMessage\n",
    "from langchain_google_genai import ChatGoogleGenerativeAI\n",
    "llm_gemini = ChatGoogleGenerativeAI(model=\"gemini-2.0-flash\" , api_key= GOOGLE_API_KEY)\n",
    "\n",
    "messages = [\n",
    "    SystemMessage(content=\"this is helpful assistance\"),\n",
    "    HumanMessage(content=\"Tell me about uses of Langchain\")\n",
    "]\n",
    "\n",
    "results = llm_gemini.invoke(messages)\n",
    "messages.append(AIMessage(content= results.content))"
   ]
  },
  {
   "cell_type": "code",
   "execution_count": 7,
   "id": "be98c97b",
   "metadata": {},
   "outputs": [
    {
     "name": "stdout",
     "output_type": "stream",
     "text": [
      "AI:  The current Prime Minister of India is Narendra Modi. He assumed office on 26 May 2014 and is a member of the Bharatiya Janata Party (BJP).\n",
      "AI:  Narendra Modi was born on September 17, 1950. So, as of today, October 26, 2023, he is 73 years old.\n",
      "[SystemMessage(content=\"You're a helpful AI assitant\", additional_kwargs={}, response_metadata={}), HumanMessage(content='tell me pm of india', additional_kwargs={}, response_metadata={}), AIMessage(content='The current Prime Minister of India is Narendra Modi. He assumed office on 26 May 2014 and is a member of the Bharatiya Janata Party (BJP).', additional_kwargs={}, response_metadata={}), HumanMessage(content='what is his age', additional_kwargs={}, response_metadata={}), AIMessage(content='Narendra Modi was born on September 17, 1950. So, as of today, October 26, 2023, he is 73 years old.', additional_kwargs={}, response_metadata={}), HumanMessage(content='exit', additional_kwargs={}, response_metadata={})]\n"
     ]
    }
   ],
   "source": [
    "from langchain_google_genai import ChatGoogleGenerativeAI\n",
    "from langchain_core.messages import SystemMessage , AIMessage , HumanMessage\n",
    "\n",
    "llm_gemini = ChatGoogleGenerativeAI(model=\"gemini-2.0-flash\" , api_key= GOOGLE_API_KEY)\n",
    "\n",
    "chat_history = [SystemMessage(\"You're a helpful AI assitant\")]\n",
    "while True:\n",
    "    user_input = input(\"You : \")\n",
    "    chat_history.append(HumanMessage(content=user_input))\n",
    "    if user_input.lower() == \"exit\":\n",
    "        break\n",
    "    \n",
    "    results = llm_gemini.invoke(chat_history)\n",
    "    chat_history.append(AIMessage(content=results.content))\n",
    "    print(\"AI: \", results.content)\n",
    "    \n",
    "print(chat_history)"
   ]
  },
  {
   "cell_type": "code",
   "execution_count": 10,
   "id": "f75153e7",
   "metadata": {},
   "outputs": [
    {
     "data": {
      "text/plain": [
       "AIMessage(content='Okay, let\\'s break down Support Vector Machines (SVMs) in the context of data decomposition, avoiding jargon as much as possible.\\n\\n**What is Data Decomposition?**\\n\\nImagine you have a complicated jigsaw puzzle. Data decomposition is like taking that puzzle and breaking it down into smaller, simpler sub-puzzles. The goal is to make the overall puzzle easier to understand or solve.  In the world of data, this means taking a complex dataset and representing it in a different, often more manageable, way.\\n\\n**What is SVM? (The Basics)**\\n\\nThink of SVM as a smart divider.  Its primary job is to separate different groups of things (data points) as cleanly as possible. Imagine you have a bunch of red balls and blue balls scattered on a table.  SVM tries to draw a line (or a more complex shape in higher dimensions) that best separates the red balls from the blue balls.\\n\\n**How SVM Fits into Data Decomposition**\\n\\nSVM can be used as a tool *within* a data decomposition strategy. Here\\'s the core idea:\\n\\n1. **Non-linear Data:**  Sometimes, your data is mixed up in a way that\\'s hard to separate with a simple line or plane.  Think of the red and blue balls being swirled together in a complex pattern.\\n\\n2. **Kernel Trick (The Magic):**  SVM uses something called the \"kernel trick.\"  This is a clever mathematical technique that allows SVM to implicitly transform your data into a higher-dimensional space *without* actually doing the full transformation.  Think of it like this: Imagine lifting the table with the red and blue balls into a 3D space. In this new space, the balls might naturally separate into distinct layers, making it easier to draw a dividing plane between them. The kernel trick helps SVM find that better perspective without explicitly doing the 3D lift.\\n\\n3. **Decomposition by Separation:** The SVM, using the kernel trick, finds the best way to separate the data in this (potentially) higher-dimensional space. This separation implicitly *decomposes* the data into meaningful groups. Each group represents a different \"component\" of the original complex data.\\n4. **Feature Extraction:** Furthermore, by using the support vectors, you can extract the most important features from the data\\n\\n**Analogy: Image Segmentation**\\n\\nThink of an image of a cat sitting on a couch.  Data decomposition using SVM could be used to segment the image:\\n\\n*   **Original Data:** The image pixels (representing colors and locations).\\n*   **Decomposition Goal:** Separate the cat from the couch.\\n*   **SVM\\'s Role:**  SVM, potentially with a kernel trick, learns to distinguish between the pixels that belong to the cat and the pixels that belong to the couch.\\n*   **Result:** The image is decomposed into two components: the \"cat\" component and the \"couch\" component.\\n\\n**In Summary:**\\n\\n*   SVM is a powerful tool for separating data into groups.\\n*   The \"kernel trick\" allows SVM to handle complex, non-linear data by implicitly transforming it into a higher-dimensional space.\\n*   By separating the data, SVM effectively decomposes it into meaningful components.\\n*   This decomposition can be useful for tasks like image segmentation, pattern recognition, and feature extraction.\\n\\nLet me know if you\\'d like a more specific example or want to dive into the kernel trick in more detail!', additional_kwargs={}, response_metadata={'prompt_feedback': {'block_reason': 0, 'safety_ratings': []}, 'finish_reason': 'STOP', 'safety_ratings': []}, id='run--a7a31e47-cb0f-4af5-a9a3-1cec32b8a1b7-0', usage_metadata={'input_tokens': 21, 'output_tokens': 715, 'total_tokens': 736, 'input_token_details': {'cache_read': 0}})"
      ]
     },
     "execution_count": 10,
     "metadata": {},
     "output_type": "execute_result"
    }
   ],
   "source": [
    "from langchain_core.prompts import ChatPromptTemplate\n",
    "\n",
    "chat_template = ChatPromptTemplate([\n",
    "    ('system' , 'You are a helpful {domain} Expert'),\n",
    "    ('human', 'Explain in simpler terms, what is {topic}')\n",
    "])\n",
    "\n",
    "promt = chat_template.invoke({\n",
    "    \"domain\" : \"Ai Enginner\",\n",
    "    \"topic\" : \"SVM in data decompostion\"\n",
    "})\n",
    "\n",
    "llm_gemini.invoke(promt)"
   ]
  },
  {
   "cell_type": "code",
   "execution_count": 12,
   "id": "2651ca44",
   "metadata": {},
   "outputs": [
    {
     "name": "stdout",
     "output_type": "stream",
     "text": [
      "messages=[SystemMessage(content='you are a helpfil customer support agent', additional_kwargs={}, response_metadata={}), HumanMessage(content='I want to request a refund for my order #12345.', additional_kwargs={}, response_metadata={}), AIMessage(content='Your refund request for order #12345 has been initiated. It will be processed in 3-5 business days.', additional_kwargs={}, response_metadata={}), HumanMessage(content=\"content='what is status of my refund' additional_kwargs={} response_metadata={}\", additional_kwargs={}, response_metadata={})]\n"
     ]
    }
   ],
   "source": [
    "# Message Placeholder\n",
    "\n",
    "from langchain_core.prompts import ChatPromptTemplate , MessagesPlaceholder\n",
    "\n",
    "# Chat tempalte \n",
    "chat_template = ChatPromptTemplate([\n",
    "    (\"system\" , \"you are a helpfil customer support agent\"),\n",
    "    MessagesPlaceholder(variable_name=\"chat_history\"),\n",
    "    ('human' , '{query}')\n",
    "])\n",
    "\n",
    "# load chat history\n",
    "chat_history = [HumanMessage(content=\"I want to request a refund for my order #12345.\"),\n",
    "AIMessage(content=\"Your refund request for order #12345 has been initiated. It will be processed in 3-5 business days.\")]\n",
    "\n",
    "# create promts\n",
    "promt = chat_template.invoke({\n",
    "    \"chat_history\":chat_history,\n",
    "    \"query\": HumanMessage(content=\"what is status of my refund\")\n",
    "})\n",
    "\n",
    "print(promt)"
   ]
  },
  {
   "cell_type": "code",
   "execution_count": null,
   "id": "c372b18a",
   "metadata": {},
   "outputs": [],
   "source": []
  }
 ],
 "metadata": {
  "kernelspec": {
   "display_name": ".venv",
   "language": "python",
   "name": "python3"
  },
  "language_info": {
   "codemirror_mode": {
    "name": "ipython",
    "version": 3
   },
   "file_extension": ".py",
   "mimetype": "text/x-python",
   "name": "python",
   "nbconvert_exporter": "python",
   "pygments_lexer": "ipython3",
   "version": "3.12.2"
  }
 },
 "nbformat": 4,
 "nbformat_minor": 5
}
