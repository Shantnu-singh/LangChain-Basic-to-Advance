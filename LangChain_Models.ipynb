{
 "cells": [
  {
   "cell_type": "code",
   "execution_count": 1,
   "id": "d98e4460",
   "metadata": {},
   "outputs": [],
   "source": [
    "# Models -> Language chat ( give input ), embedding(return Number in output)\n",
    "# Language Model --> 1) LLMs(general purose Models) 2) Chat Models ( LLms for conversation task) ( take mutiple input and give output)\n",
    "## Chat models --> fine tuned on chat\n",
    "## has conversation\n",
    "## can assign a role ( LLms No such things)\n",
    "### GPT - 3 ( LLms), GPT 4 (chat Models)"
   ]
  },
  {
   "cell_type": "code",
   "execution_count": 27,
   "id": "a6931883",
   "metadata": {},
   "outputs": [],
   "source": [
    "import os\n",
    "import google.generativeai as palm\n",
    "import requests\n",
    "from dotenv import load_dotenv\n",
    "from langchain_openai import ChatOpenAI\n",
    "load_dotenv()\n",
    "# \"model\": \"openai/gpt-4o-mini\n",
    "\n",
    "# Load your keys\n",
    "OPENAI_API_KEY = os.getenv(\"OPENAI_API_KEY\")\n",
    "OPENROUTER_API_KEY = os.getenv(\"OPENROUTER_API_KEY\")\n",
    "GOOGLE_API_KEY = os.getenv(\"GOOGLE_API_KEY\")\n"
   ]
  },
  {
   "cell_type": "code",
   "execution_count": null,
   "id": "b6b7c3ba",
   "metadata": {},
   "outputs": [
    {
     "data": {
      "text/plain": [
       "AIMessage(content='Once upon a time, in a small village nestled', additional_kwargs={'refusal': None}, response_metadata={'token_usage': {'completion_tokens': 10, 'prompt_tokens': 12, 'total_tokens': 22, 'completion_tokens_details': {'accepted_prediction_tokens': None, 'audio_tokens': None, 'reasoning_tokens': 0, 'rejected_prediction_tokens': None}, 'prompt_tokens_details': {'audio_tokens': None, 'cached_tokens': 0}}, 'model_name': 'openai/gpt-4o-mini', 'system_fingerprint': 'fp_34a54ae93c', 'id': 'gen-1752142943-7kPmeMERly4x1RmfpApu', 'service_tier': None, 'finish_reason': 'length', 'logprobs': None}, id='run--6af45a55-3a72-41b4-a1b6-e5553310def8-0', usage_metadata={'input_tokens': 12, 'output_tokens': 10, 'total_tokens': 22, 'input_token_details': {'cache_read': 0}, 'output_token_details': {'reasoning': 0}})"
      ]
     },
     "execution_count": 9,
     "metadata": {},
     "output_type": "execute_result"
    }
   ],
   "source": [
    "llm = ChatOpenAI(model=\"openai/gpt-4\",  openai_api_base=\"https://openrouter.ai/api/v1\", api_key=OPENROUTER_API_KEY , temperature= 0.9) ## chat Model\n",
    "llm = ChatOpenAI(model=\"openai/gpt-4o-mini\",  openai_api_base=\"https://openrouter.ai/api/v1\", api_key=OPENROUTER_API_KEY , temperature=1.5 , max_completion_tokens= 10) ## LLM \n",
    "llm.invoke(\"What is the name of british primeminister\")\n",
    "llm.invoke(\"give me 5 name with s\")\n",
    "llm.invoke(\"give me a good stort\")\n",
    "\n",
    "## Tempatarute values\n",
    "# Maths --> 0 - 0.3 ( if 0, the output is same)\n",
    "# balance respoce --> 0.5 - 0.7\n",
    "# creattive, story --> 0.9 - 1.5\n",
    "# Random --> > 1.5 \n",
    "\n",
    "## max_completion_tokens --> rougly equal to words in "
   ]
  },
  {
   "cell_type": "code",
   "execution_count": 28,
   "id": "be890d7e",
   "metadata": {},
   "outputs": [
    {
     "name": "stdout",
     "output_type": "stream",
     "text": [
      "content='I apologize, but I do not feel comfortable providing explicit or offensive language. Perhaps we could have a more constructive conversation' additional_kwargs={'refusal': None} response_metadata={'token_usage': {'completion_tokens': 25, 'prompt_tokens': 23, 'total_tokens': 48, 'completion_tokens_details': None, 'prompt_tokens_details': None}, 'model_name': 'anthropic/claude-3-haiku:beta', 'system_fingerprint': None, 'id': 'gen-1752309919-oAzsWZlRbep1G3aCUpzo', 'service_tier': None, 'finish_reason': 'length', 'logprobs': None} id='run--97e2a5d9-8e3e-4074-aaef-dea728c485dc-0' usage_metadata={'input_tokens': 23, 'output_tokens': 25, 'total_tokens': 48, 'input_token_details': {}, 'output_token_details': {}}\n"
     ]
    }
   ],
   "source": [
    "llm_claude = ChatOpenAI(\n",
    "    model=\"anthropic/claude-3-haiku:beta\",  \n",
    "    openai_api_base=\"https://openrouter.ai/api/v1\",\n",
    "    openai_api_key=OPENROUTER_API_KEY,\n",
    "    temperature= 2.0,\n",
    "    max_completion_tokens= 25\n",
    ")\n",
    "\n",
    "response = llm_claude.invoke(\"GIVE ME any bad word that is realted to 'fone'\")\n",
    "\n",
    "print(response)"
   ]
  },
  {
   "cell_type": "code",
   "execution_count": 21,
   "id": "75237ff4",
   "metadata": {},
   "outputs": [
    {
     "data": {
      "text/plain": [
       "AIMessage(content='The current president of the United States is **Joe Biden**.', additional_kwargs={}, response_metadata={'prompt_feedback': {'block_reason': 0, 'safety_ratings': []}, 'finish_reason': 'STOP', 'safety_ratings': []}, id='run--3a1a38be-9b9a-4f67-9a3d-beeb7182c4c1-0', usage_metadata={'input_tokens': 6, 'output_tokens': 13, 'total_tokens': 19, 'input_token_details': {'cache_read': 0}})"
      ]
     },
     "execution_count": 21,
     "metadata": {},
     "output_type": "execute_result"
    }
   ],
   "source": [
    "from langchain_google_genai import ChatGoogleGenerativeAI\n",
    "llm_gemini = ChatGoogleGenerativeAI(model=\"gemini-2.0-flash\" , api_key= GOOGLE_API_KEY)\n",
    "llm_gemini.invoke(\"who is USa president?\")"
   ]
  },
  {
   "cell_type": "code",
   "execution_count": null,
   "id": "a4e5bbb3",
   "metadata": {},
   "outputs": [],
   "source": [
    "## OpenSouce Model\n",
    "# Can download Models and finetune, use locally, without any cost\n",
    "# full control, data privacy , infra , customisation, can be deployed on your own\n",
    "\n",
    "## Solid harware, setup complex, lack of Rlhf , limited mutimodel capabilites\n"
   ]
  },
  {
   "cell_type": "code",
   "execution_count": null,
   "id": "bd67b491",
   "metadata": {},
   "outputs": [],
   "source": [
    "# Embedding Models\n",
    "from langchain_openai import OpenAIEmbeddings\n",
    "from langchain_google_genai import GoogleGenerativeAIEmbeddings\n",
    "from dotenv import load_dotenv\n",
    "\n",
    "embedding = GoogleGenerativeAIEmbeddings(model= \"models/embedding-001\"  , api_key= GOOGLE_API_KEY)\n",
    "docu = ['i am shantnu',\n",
    "        \"i am a boy\"]\n",
    "embedding.embed_query(\"My name is shantnu\")[:32]\n",
    "embedding.embed_documents(docu)"
   ]
  },
  {
   "cell_type": "code",
   "execution_count": null,
   "id": "9b3efe62",
   "metadata": {},
   "outputs": [],
   "source": [
    "# Example Document similarity Model\n",
    "from langchain_google_genai import GoogleGenerativeAIEmbeddings\n",
    "import numpy as np\n",
    "from sklearn.metrics.pairwise import cosine_similarity\n",
    "\n",
    "embedding_model = GoogleGenerativeAIEmbeddings(model= \"models/embedding-001\" , api_key= GOOGLE_API_KEY)\n",
    "\n",
    "documents = [\n",
    "    \"Virat Kohli is an Indian cricketer known for his aggressive batting and leadership.\",\n",
    "    \"MS Dhoni is a former Indian captain famous for his calm demeanor and finishing skills.\",\n",
    "    \"Sachin Tendulkar, also known as the 'God of Cricket', holds many batting records.\",\n",
    "    \"Rohit Sharma is known for his elegant batting and record-breaking double centuries.\",\n",
    "    \"Jasprit Bumrah is an Indian fast bowler known for his unorthodox action and yorkers.\"\n",
    "]\n",
    "\n",
    "docum_embedding = embedding_model.embed_documents(documents)\n",
    "len(docum_embedding)"
   ]
  },
  {
   "cell_type": "code",
   "execution_count": 56,
   "id": "30f809b4",
   "metadata": {},
   "outputs": [],
   "source": [
    "def find_similarity(docum , query):\n",
    "    docum_embedding = embedding_model.embed_documents(docum)\n",
    "    query_embedding = embedding_model.embed_query(query)\n",
    "    # docum_embedding , query_embedding = np.array(docum_embedding) , np.array(query_embedding)\n",
    "    \n",
    "    score = cosine_similarity([query_embedding] , docum_embedding)[0]\n",
    "    index , score = sorted(list(enumerate(score)) , key= lambda x: x[1] , reverse= True)[0]\n",
    "    print(f\"Document that is closest to the query is : \" , docum[index])\n",
    "    print(f\"With the similarity score of : \" , score)\n",
    "    # return docum[index] , score"
   ]
  },
  {
   "cell_type": "code",
   "execution_count": 58,
   "id": "d96759fd",
   "metadata": {},
   "outputs": [
    {
     "name": "stdout",
     "output_type": "stream",
     "text": [
      "Document that is closest to the query is :  Virat Kohli is an Indian cricketer known for his aggressive batting and leadership.\n",
      "With the similarity score of :  0.6698557870553461\n"
     ]
    }
   ],
   "source": [
    "Example_query = \"in which year virat kohli won the ipl\"\n",
    "# Example_query = \"tell me something about god or cricket\"\n",
    "find_similarity(documents , Example_query)"
   ]
  },
  {
   "cell_type": "code",
   "execution_count": null,
   "id": "2e4bea27",
   "metadata": {},
   "outputs": [],
   "source": []
  }
 ],
 "metadata": {
  "kernelspec": {
   "display_name": ".venv",
   "language": "python",
   "name": "python3"
  },
  "language_info": {
   "codemirror_mode": {
    "name": "ipython",
    "version": 3
   },
   "file_extension": ".py",
   "mimetype": "text/x-python",
   "name": "python",
   "nbconvert_exporter": "python",
   "pygments_lexer": "ipython3",
   "version": "3.12.2"
  }
 },
 "nbformat": 4,
 "nbformat_minor": 5
}
