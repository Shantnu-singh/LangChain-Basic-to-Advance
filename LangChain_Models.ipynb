{
 "cells": [
  {
   "cell_type": "code",
   "execution_count": 1,
   "id": "d98e4460",
   "metadata": {},
   "outputs": [],
   "source": [
    "# Models -> Language chat ( give input ), embedding(return Number in output)\n",
    "# Language Model --> 1) LLMs(general purose Models) 2) Chat Models ( LLms for conversation task) ( take mutiple input and give output)\n",
    "## Chat models --> fine tuned on chat\n",
    "## has conversation\n",
    "## can assign a role ( LLms No such things)\n",
    "### GPT - 3 ( LLms), GPT 4 (chat Models)"
   ]
  },
  {
   "cell_type": "code",
   "execution_count": null,
   "id": "a6931883",
   "metadata": {},
   "outputs": [
    {
     "name": "stderr",
     "output_type": "stream",
     "text": [
      "c:\\Users\\singh\\Let's Gooooo\\Langchain\\.venv\\Lib\\site-packages\\tqdm\\auto.py:21: TqdmWarning: IProgress not found. Please update jupyter and ipywidgets. See https://ipywidgets.readthedocs.io/en/stable/user_install.html\n",
      "  from .autonotebook import tqdm as notebook_tqdm\n"
     ]
    }
   ],
   "source": [
    "import os\n",
    "import google.generativeai as palm\n",
    "import requests\n",
    "from dotenv import load_dotenv\n",
    "from langchain_openai import ChatOpenAI\n",
    "load_dotenv()\n",
    "# \"model\": \"openai/gpt-4o-mini\n",
    "\n",
    "# Load your keys\n",
    "OPENAI_API_KEY = os.getenv(\"OPENAI_API_KEY\")\n",
    "OPENROUTER_API_KEY = os.getenv(\"OPENROUTER_API_KEY\")\n",
    "GOOGLE_API_KEY = os.getenv(\"GOOGLE_API_KEY\")\n"
   ]
  },
  {
   "cell_type": "code",
   "execution_count": null,
   "id": "b6b7c3ba",
   "metadata": {},
   "outputs": [
    {
     "data": {
      "text/plain": [
       "AIMessage(content='Once upon a time, in a small village nestled', additional_kwargs={'refusal': None}, response_metadata={'token_usage': {'completion_tokens': 10, 'prompt_tokens': 12, 'total_tokens': 22, 'completion_tokens_details': {'accepted_prediction_tokens': None, 'audio_tokens': None, 'reasoning_tokens': 0, 'rejected_prediction_tokens': None}, 'prompt_tokens_details': {'audio_tokens': None, 'cached_tokens': 0}}, 'model_name': 'openai/gpt-4o-mini', 'system_fingerprint': 'fp_34a54ae93c', 'id': 'gen-1752142943-7kPmeMERly4x1RmfpApu', 'service_tier': None, 'finish_reason': 'length', 'logprobs': None}, id='run--6af45a55-3a72-41b4-a1b6-e5553310def8-0', usage_metadata={'input_tokens': 12, 'output_tokens': 10, 'total_tokens': 22, 'input_token_details': {'cache_read': 0}, 'output_token_details': {'reasoning': 0}})"
      ]
     },
     "execution_count": 9,
     "metadata": {},
     "output_type": "execute_result"
    }
   ],
   "source": [
    "llm = ChatOpenAI(model=\"openai/gpt-4\",  openai_api_base=\"https://openrouter.ai/api/v1\", api_key=OPENROUTER_API_KEY , temperature= 0.9) ## chat Model\n",
    "llm = ChatOpenAI(model=\"openai/gpt-4o-mini\",  openai_api_base=\"https://openrouter.ai/api/v1\", api_key=OPENROUTER_API_KEY , temperature=1.5 , max_completion_tokens= 10) ## LLM \n",
    "llm.invoke(\"What is the name of british primeminister\")\n",
    "llm.invoke(\"give me 5 name with s\")\n",
    "llm.invoke(\"give me a good stort\")\n",
    "\n",
    "## Tempatarute values\n",
    "# Maths --> 0 - 0.3\n",
    "# balance respoce --> 0.5 - 0.7\n",
    "# creattive, story --> 0.9 - 1.5\n",
    "# Random --> > 1.5 \n",
    "\n",
    "## max_completion_tokens --> rougly equal to words in "
   ]
  },
  {
   "cell_type": "code",
   "execution_count": 14,
   "id": "be890d7e",
   "metadata": {},
   "outputs": [
    {
     "name": "stdout",
     "output_type": "stream",
     "text": [
      "content='There is no such thing as the \"fastest elephant.\" Elephants are not known for being fast animals. Elephants' additional_kwargs={'refusal': None} response_metadata={'token_usage': {'completion_tokens': 25, 'prompt_tokens': 16, 'total_tokens': 41, 'completion_tokens_details': None, 'prompt_tokens_details': None}, 'model_name': 'anthropic/claude-3-haiku:beta', 'system_fingerprint': None, 'id': 'gen-1752143364-mody28qlxNOYhFT0F1OT', 'service_tier': None, 'finish_reason': 'length', 'logprobs': None} id='run--87fedbc5-636e-444f-a985-5026fb7c841c-0' usage_metadata={'input_tokens': 16, 'output_tokens': 25, 'total_tokens': 41, 'input_token_details': {}, 'output_token_details': {}}\n"
     ]
    }
   ],
   "source": [
    "llm_claude = ChatOpenAI(\n",
    "    model=\"anthropic/claude-3-haiku:beta\",  \n",
    "    openai_api_base=\"https://openrouter.ai/api/v1\",\n",
    "    openai_api_key=OPENROUTER_API_KEY,\n",
    "    temperature= 2.0,\n",
    "    max_completion_tokens= 25\n",
    ")\n",
    "\n",
    "response = llm_claude.invoke(\"What is the name of the fastest elephant?\")\n",
    "\n",
    "print(response)"
   ]
  },
  {
   "cell_type": "code",
   "execution_count": null,
   "id": "75237ff4",
   "metadata": {},
   "outputs": [],
   "source": []
  }
 ],
 "metadata": {
  "kernelspec": {
   "display_name": ".venv",
   "language": "python",
   "name": "python3"
  },
  "language_info": {
   "codemirror_mode": {
    "name": "ipython",
    "version": 3
   },
   "file_extension": ".py",
   "mimetype": "text/x-python",
   "name": "python",
   "nbconvert_exporter": "python",
   "pygments_lexer": "ipython3",
   "version": "3.12.2"
  }
 },
 "nbformat": 4,
 "nbformat_minor": 5
}
